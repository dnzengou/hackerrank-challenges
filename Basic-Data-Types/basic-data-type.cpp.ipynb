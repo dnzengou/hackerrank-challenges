{
 "cells": [
  {
   "cell_type": "markdown",
   "metadata": {},
   "source": [
    "# Problem"
   ]
  },
  {
   "cell_type": "markdown",
   "metadata": {},
   "source": [
    "Some C++ data types, their format specifiers, and their most common bit widths are as follows:<br>\n",
    "`\n",
    "    Int (\"%d\"): 32 Bit integer\n",
    "    Long (\"%ld\"): 64 bit integer\n",
    "    Char (\"%c\"): Character type\n",
    "    Float (\"%f\"): 32 bit real value\n",
    "    Double (\"%lf\"): 64 bit real value\n",
    "`\n",
    "\n",
    "Print each element on a new line in the same order it was received as input. Note that the floating point value should be correct up to 3 decimal places and the double to 9 decimal places."
   ]
  },
  {
   "cell_type": "markdown",
   "metadata": {},
   "source": [
    "# Solution"
   ]
  },
  {
   "cell_type": "markdown",
   "metadata": {},
   "source": [
    "[source](https://www.programmingwithbasics.com/2017/04/hacker-rank-solution-for-solve-me-first.html)"
   ]
  },
  {
   "cell_type": "markdown",
   "metadata": {},
   "source": [
    "___\n",
    "`\n",
    "#include <cstdio>\n",
    "#include <iostream>\n",
    "using namespace std;\n",
    "\n",
    "int main() {\n",
    "  int num1, num2, sum;\n",
    "  cin>>num1>>num2;\n",
    "  sum = solveMeFirst(num1,num2);\n",
    "  cout<<sum;\n",
    "  return 0;\n",
    "}\n",
    "\n",
    "`\n",
    "___"
   ]
  },
  {
   "cell_type": "code",
   "execution_count": null,
   "metadata": {},
   "outputs": [],
   "source": []
  }
 ],
 "metadata": {
  "kernelspec": {
   "display_name": "Python 3",
   "language": "python",
   "name": "python3"
  },
  "language_info": {
   "codemirror_mode": {
    "name": "ipython",
    "version": 3
   },
   "file_extension": ".py",
   "mimetype": "text/x-python",
   "name": "python",
   "nbconvert_exporter": "python",
   "pygments_lexer": "ipython3",
   "version": "3.7.7"
  }
 },
 "nbformat": 4,
 "nbformat_minor": 4
}
