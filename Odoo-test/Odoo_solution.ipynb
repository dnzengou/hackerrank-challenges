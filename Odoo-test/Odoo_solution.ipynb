{
 "cells": [
  {
   "cell_type": "markdown",
   "metadata": {},
   "source": [
    "# Odoo\n",
    "\n",
    "Sources:\n",
    "- [Odoo](https://pad.odoo.com/p/interview-75KyiHfpg0czAOyJxLvFov-1598513422)\n",
    "- [w3resource](https://www.w3resource.com/python-exercises/python-conditional-exercise-10.php)"
   ]
  },
  {
   "cell_type": "markdown",
   "metadata": {},
   "source": [
    "## Problem\n",
    "\n",
    "Write a program that outputs sequentially the integers from 1 to 99, but on some conditions prints a string instead:\n",
    "\n",
    "    when the integer is a multiple of 3 print “Open” instead of the number,\n",
    "\n",
    "    when it is a multiple of 7 print “Source” instead of the number,\n",
    "\n",
    "    when it is a multiple of both 3 and 7 print “OpenSource” instead of the number.\n",
    "\n"
   ]
  },
  {
   "cell_type": "markdown",
   "metadata": {},
   "source": [
    "## Function Description\n",
    "\n",
    "Complete the plusMinus function in the editor below. It should print out the ratio of positive, negative and zero items in the array, each on a separate line rounded to six decimals.\n",
    "\n",
    "plusMinus has the following parameter(s):\n",
    "\n",
    "    arr: an array of integers\n",
    "\n",
    "\n"
   ]
  },
  {
   "cell_type": "markdown",
   "metadata": {},
   "source": [
    "## Input Format\n",
    "\n",
    "The first line contains an integer, , denoting the size of the array.\n",
    "The second line contains space-separated integers describing an array of numbers .\n",
    "\n",
    "## Constraints\n",
    "\n"
   ]
  },
  {
   "cell_type": "markdown",
   "metadata": {},
   "source": [
    "## Output Format\n",
    "\n",
    "You must print the following lines:\n",
    "\n",
    "    A decimal representing of the fraction of positive numbers in the array compared to its size.\n",
    "    A decimal representing of the fraction of negative numbers in the array compared to its size.\n",
    "    A decimal representing of the fraction of zeros in the array compared to its size.\n",
    "\n"
   ]
  },
  {
   "cell_type": "markdown",
   "metadata": {},
   "source": [
    "## Test 1: Open Source OpenSource\n",
    "\n",
    "```\n",
    "\n",
    "```\n",
    "\n"
   ]
  },
  {
   "cell_type": "markdown",
   "metadata": {},
   "source": [
    "### Problem\n",
    "\n",
    "Write a program that outputs sequentially the integers from 1 to 99, but on some conditions prints a string instead:\n",
    "\n",
    "    when the integer is a multiple of 3 print “Open” instead of the number,\n",
    "\n",
    "    when it is a multiple of 7 print “Source” instead of the number,\n",
    "\n",
    "    when it is a multiple of both 3 and 7 print “OpenSource” instead of the number.\n",
    "\n"
   ]
  },
  {
   "cell_type": "markdown",
   "metadata": {},
   "source": [
    "### Solution\n"
   ]
  },
  {
   "cell_type": "markdown",
   "metadata": {},
   "source": [
    "#### C++\n",
    " "
   ]
  },
  {
   "cell_type": "markdown",
   "metadata": {},
   "source": [
    "[source code]()"
   ]
  },
  {
   "cell_type": "markdown",
   "metadata": {},
   "source": [
    "`#include <stdio.h>\n",
    "\n",
    "int main (void)\n",
    "{\n",
    "    int n;\n",
    "    printf(\"Write a program that outputs sequentially the integers from 1 to 99, Open when the integer is a multiple of 3, Source when the integer is a multiple of 7,\\n OpenSource when the integer is a multiple of 3 and 7\\n\");\n",
    "    for (n=1; n<=99; n++)\n",
    "    {\n",
    "        if (n%3==0 && n%7==0)\n",
    "        {\n",
    "            printf(\"OpenSource\\n\");\n",
    "        }\n",
    "        else if (n%3==0)\n",
    "        {\n",
    "            printf(\"Open\\n\");\n",
    "        }\n",
    "        else if (n%7==0)\n",
    "        {\n",
    "            printf(\"Source\\n\");\n",
    "        }\n",
    "        else\n",
    "        {\n",
    "            printf(\"%d\\n\",n);\n",
    "        }\n",
    "    }\n",
    "    return 0;\n",
    "}`\n"
   ]
  },
  {
   "cell_type": "markdown",
   "metadata": {},
   "source": [
    "#### Python"
   ]
  },
  {
   "cell_type": "markdown",
   "metadata": {},
   "source": [
    "[source code](https://www.w3resource.com/python-exercises/python-conditional-exercise-10.php)"
   ]
  },
  {
   "cell_type": "code",
   "execution_count": 2,
   "metadata": {
    "scrolled": false
   },
   "outputs": [
    {
     "name": "stdout",
     "output_type": "stream",
     "text": [
      "OpenSource\n",
      "1\n",
      "2\n",
      "Open\n",
      "4\n",
      "5\n",
      "Open\n",
      "Source\n",
      "8\n",
      "Open\n",
      "10\n",
      "11\n",
      "Open\n",
      "13\n",
      "Source\n",
      "Open\n",
      "16\n",
      "17\n",
      "Open\n",
      "19\n",
      "20\n",
      "OpenSource\n",
      "22\n",
      "23\n",
      "Open\n",
      "25\n",
      "26\n",
      "Open\n",
      "Source\n",
      "29\n",
      "Open\n",
      "31\n",
      "32\n",
      "Open\n",
      "34\n",
      "Source\n",
      "Open\n",
      "37\n",
      "38\n",
      "Open\n",
      "40\n",
      "41\n",
      "OpenSource\n",
      "43\n",
      "44\n",
      "Open\n",
      "46\n",
      "47\n",
      "Open\n",
      "Source\n",
      "50\n",
      "Open\n",
      "52\n",
      "53\n",
      "Open\n",
      "55\n",
      "Source\n",
      "Open\n",
      "58\n",
      "59\n",
      "Open\n",
      "61\n",
      "62\n",
      "OpenSource\n",
      "64\n",
      "65\n",
      "Open\n",
      "67\n",
      "68\n",
      "Open\n",
      "Source\n",
      "71\n",
      "Open\n",
      "73\n",
      "74\n",
      "Open\n",
      "76\n",
      "Source\n",
      "Open\n",
      "79\n",
      "80\n",
      "Open\n",
      "82\n",
      "83\n",
      "OpenSource\n",
      "85\n",
      "86\n",
      "Open\n",
      "88\n",
      "89\n",
      "Open\n",
      "Source\n",
      "92\n",
      "Open\n",
      "94\n",
      "95\n",
      "Open\n",
      "97\n",
      "Source\n",
      "Open\n"
     ]
    }
   ],
   "source": [
    "for OpenSource in range(100):\n",
    "    if OpenSource % 3 == 0 and OpenSource % 7 == 0:\n",
    "        print(\"OpenSource\")\n",
    "        continue\n",
    "    elif OpenSource % 3 == 0:\n",
    "        print(\"Open\")\n",
    "        continue\n",
    "    elif OpenSource % 7 == 0:\n",
    "        print(\"Source\")\n",
    "        continue\n",
    "    print(OpenSource)"
   ]
  },
  {
   "cell_type": "markdown",
   "metadata": {},
   "source": [
    "## Test 2: Any language"
   ]
  },
  {
   "cell_type": "markdown",
   "metadata": {},
   "source": [
    "## Guess a number"
   ]
  },
  {
   "cell_type": "markdown",
   "metadata": {},
   "source": [
    "Solve the game \"Guess a number\", find a secret integer between 1 and 1000000 in less than 50 guesses.<br>Write a function that solves the game **without user input** and returns the solution by using the function verify() which is defined with the following specification:<br>\n",
    "function verify(guess: integer) -> integer<br>\n",
    "Argument:<br>\n",
    "     guess (integer) the number to verify<br>\n",
    "Returns:<br>\n",
    "     0 if the guess is the solution, your program won<br>\n",
    "     -1 if the solution is smaller than the guess parameter<br>\n",
    "     1  if the solution is bigger than the guess parameter<br>\n",
    "\n",
    "Warning: You are not allowed to call verify() more that 50 times or you lose."
   ]
  },
  {
   "cell_type": "markdown",
   "metadata": {},
   "source": [
    "## Solution"
   ]
  },
  {
   "cell_type": "markdown",
   "metadata": {},
   "source": [
    "### Python"
   ]
  },
  {
   "cell_type": "markdown",
   "metadata": {},
   "source": [
    "[source code]()"
   ]
  },
  {
   "cell_type": "code",
   "execution_count": 12,
   "metadata": {},
   "outputs": [
    {
     "name": "stdout",
     "output_type": "stream",
     "text": [
      "n =  293150\n",
      "out =  740083.0 and n =  293150  and guesses taken =  20\n"
     ]
    }
   ],
   "source": [
    "import random\n",
    "import math\n",
    "\n",
    "def verify(solution,guess):\n",
    "    if solution>guess:\n",
    "        out = 1\n",
    "    elif solution<guess:\n",
    "        out = -1\n",
    "    else:\n",
    "        out = 0\n",
    "    return out\n",
    "    \n",
    "max = 1000000\n",
    "n = random.randint(1,max)\n",
    "\n",
    "print('n = ', n)\n",
    "guess = 1;\n",
    "\n",
    "out = max/2\n",
    "temp = out\n",
    "while guess < 50:\n",
    "    v = verify(out,nb)\n",
    "    \n",
    "    if temp < 2:\n",
    "        temp = temp * 2\n",
    "    else:\n",
    "        temp = temp / 2\n",
    "    temp = math.ceil(temp)\n",
    "        \n",
    "    if v == 1:\n",
    "        out = out - temp\n",
    "    elif v == -1:\n",
    "        out = out + temp\n",
    "    else:\n",
    "        print('out = ',out,'and n = ',n,' and guesses taken = ',guess)\n",
    "        break\n",
    "    guess = guess + 1\n",
    "#     print 'temp = ' ,temp\n",
    "#     print 'out = ' ,out"
   ]
  },
  {
   "cell_type": "markdown",
   "metadata": {},
   "source": [
    "## Test 3: Any language"
   ]
  },
  {
   "cell_type": "markdown",
   "metadata": {},
   "source": [
    "Write a function that takes a list of strings and returns the sum of the list items that represent an integer (skipping the other items)"
   ]
  },
  {
   "cell_type": "code",
   "execution_count": 13,
   "metadata": {
    "scrolled": true
   },
   "outputs": [
    {
     "name": "stdout",
     "output_type": "stream",
     "text": [
      "357\n"
     ]
    }
   ],
   "source": [
    "# Python program to find sum of list with different types. \n",
    "\n",
    "def calsum(l):\n",
    "    return sum([int(i) for i in l if type(i)== int or i.isdigit()]) \n",
    "\n",
    "# Eg. Declaring a list with int and str\n",
    "list = [3, '82', 'Odoo', 'Open', 51, '9', 6, 4, 'Source', 98, 'OpenSource', 104]\n",
    "\n",
    "# sum integers in list while skiping characters\n",
    "print(calsum(list))\n"
   ]
  },
  {
   "cell_type": "markdown",
   "metadata": {},
   "source": [
    "## Test 4"
   ]
  },
  {
   "cell_type": "code",
   "execution_count": null,
   "metadata": {},
   "outputs": [],
   "source": []
  },
  {
   "cell_type": "markdown",
   "metadata": {},
   "source": [
    "[source code](https://www.scribd.com/document/463200579/interview-questions)"
   ]
  },
  {
   "cell_type": "code",
   "execution_count": null,
   "metadata": {},
   "outputs": [],
   "source": [
    "global s\n",
    "s = 0\n",
    "def list_recursive(list_of_strings):\n",
    "    global s\n",
    "    if(lenlist_of_strings)==0:\n",
    "        return \"\"\n",
    "else:\n",
    "    try:\n",
    "        sum+= int(list_of_strings[0])\n",
    "        list_recursive(list_of_strings[1:])"
   ]
  },
  {
   "cell_type": "markdown",
   "metadata": {},
   "source": [
    "## Test 5: SQL"
   ]
  },
  {
   "cell_type": "markdown",
   "metadata": {},
   "source": [
    "- Write pseudo-SQL statements to create database tables to store the products of a basic webshop. Each product has a name, a price, a creation date and may belong to several categories. Categories have a name and a flag to indicate whether the category is private or public.\n",
    "- Write a SQL query to find the list of products that belong to more than 5 public categories."
   ]
  },
  {
   "cell_type": "markdown",
   "metadata": {},
   "source": [
    "### SQL"
   ]
  },
  {
   "cell_type": "markdown",
   "metadata": {},
   "source": [
    "[source pseudo code](https://github.com/mjarmak/sql_test/blob/master/sql_test.sql)"
   ]
  },
  {
   "cell_type": "code",
   "execution_count": null,
   "metadata": {},
   "outputs": [],
   "source": [
    "# Write pseudo-SQL statements\n",
    "\n",
    "CREATE TABLE products(\n",
    "  int product_id,\n",
    "  varchar(255) product_name,\n",
    "  int price,\n",
    "  varchar(255) creationDate\n",
    ");\n",
    "\n",
    "CREATE TABLE product_categories(\n",
    "  int primary_key,\n",
    "  int product_id,\n",
    "  int  category_id\n",
    ");\n",
    "\n",
    "CREATE TABLE categories(\n",
    "  int category_id,\n",
    "  varchar(255) category_name,\n",
    "  int flag_name\n",
    ");\n",
    "\n",
    "# Write a SQL query\n",
    "SELECT name, price, creationDate FROM products WHERE categories_flag LIKE \"%*%*%*%*%*%\"\n",
    "    \n",
    "SELECT DISTINCT p.product_id, p.product_name, p.price, p.creationDate,\n",
    "FROM product_categories pc\n",
    "JOIN product p ON pc.product_id = p.product_id\n",
    "WHERE pc.category_id IN (SELECT category_id FROM categories WHERE category_flag = \"public\")\n",
    "HAVING COUNT(*) > 5\n"
   ]
  },
  {
   "cell_type": "markdown",
   "metadata": {},
   "source": [
    "## Test 6: Any language"
   ]
  },
  {
   "cell_type": "markdown",
   "metadata": {},
   "source": [
    "Write a program to download the contents of http://www.sap.com/belgique/index.html (the SAP homepage for Belgium), and then save the contents of the page to a new local file, with all occurrences of \"SAP\" replaced by \"Odoo\"."
   ]
  },
  {
   "cell_type": "markdown",
   "metadata": {},
   "source": [
    "### Java"
   ]
  },
  {
   "cell_type": "markdown",
   "metadata": {},
   "source": [
    "[source](https://pastebin.com/v0NLGpQs)"
   ]
  },
  {
   "cell_type": "code",
   "execution_count": null,
   "metadata": {},
   "outputs": [],
   "source": [
    "public void downloadContent()\n",
    "{\n",
    "    try\n",
    "    {\n",
    "        //Variables for input data.\n",
    "        URL url = new URL (\"http://www.sap.com/belgique/index.html\");\n",
    "        InputStream stream = url.openStream);\n",
    "        BufferedReader input = new BufferedReader (new Input StreamReader(stream));\n",
    "        //Variables for output data.\n",
    "        File file = new File (\"copy.html\");\n",
    "        //Creating file if not existing.\n",
    "        if (!file.exists())\n",
    "        {\n",
    "            file.createNewFile();\n",
    "        }\n",
    "        BufferedWriter output = new BufferedWriter (new FileWriter(file.getAbsoluteFile()));\n",
    "        String line;\n",
    "        //Reading each line of the web page, and writing them in the output file, replace SAP by Odoo.\n",
    "        while ( (line = input.readLine()) != null)\n",
    "        {\n",
    "            output.write(line.replace(\"SAP\", \"Odoo\"));\n",
    "        }\n",
    "        output.close\n",
    "    }\n",
    "    \n",
    "}\n"
   ]
  },
  {
   "cell_type": "markdown",
   "metadata": {},
   "source": [
    "OR<br>\n",
    "[source](https://stackoverflow.com/questions/15758856/android-how-to-download-a-file-from-a-webserver)"
   ]
  },
  {
   "cell_type": "code",
   "execution_count": null,
   "metadata": {},
   "outputs": [],
   "source": [
    "public void DownloadFiles(){\n",
    "        try {\n",
    "            URL u = new URL(\"http://www.sap.com/belgique/index.html\");\n",
    "            InputStream is = u.openStream();\n",
    "            DataInputStream dis = new DataInputStream(is);\n",
    "\n",
    "            byte[] buffer = new byte[1024];\n",
    "            int length;\n",
    "\n",
    "            FileOutputStream fos = new FileOutputStream(new File(Environment.getExternalStorageDirectory() + \"/\" + \"odoo.html\"));\n",
    "            while ((length = dis.read(buffer)) > 0) {\n",
    "                fos.write(buffer, 0, length);\n",
    "            }\n",
    "            //Reading each line of the web page, and writing them in the output file, replace SAP by Odoo.\n",
    "            while ( (line = input.readLine()) != null) {\n",
    "            output.write(line.replace(\"SAP\", \"Odoo\"));\n",
    "            }\n",
    "            output.close\n",
    "        } catch (MalformedURLException mue) {\n",
    "            Log.e(\"SYNC getUpdate\", \"malformed url error\", mue);\n",
    "        } catch (IOException ioe) {\n",
    "            Log.e(\"SYNC getUpdate\", \"io error\", ioe);\n",
    "        } catch (SecurityException se) {\n",
    "            Log.e(\"SYNC getUpdate\", \"security error\", se);\n",
    "        }\n",
    "    }\n",
    "\n",
    "\n"
   ]
  },
  {
   "cell_type": "code",
   "execution_count": 15,
   "metadata": {},
   "outputs": [
    {
     "name": "stdout",
     "output_type": "stream",
     "text": [
      "\n",
      "Url: http://www.sap.com/belgique/index.html\n",
      "contains 164 occurrences of word: SAP\n"
     ]
    }
   ],
   "source": [
    "import requests\n",
    "from bs4 import BeautifulSoup\n",
    "\n",
    "def count_words(url, the_word):\n",
    "    r = requests.get(url).text    \n",
    "    return r.count(the_word)\n",
    "\n",
    "def main():\n",
    "    url = 'http://www.sap.com/belgique/index.html'\n",
    "    word = 'SAP'\n",
    "    count = count_words(url, word)\n",
    "    print('\\nUrl: {}\\ncontains {} occurrences of word: {}'.format(url, count, word))\n",
    "\n",
    "if __name__ == '__main__':\n",
    "    main()"
   ]
  },
  {
   "cell_type": "code",
   "execution_count": null,
   "metadata": {},
   "outputs": [],
   "source": []
  },
  {
   "cell_type": "markdown",
   "metadata": {},
   "source": [
    "### Test 8: Regular Expression"
   ]
  },
  {
   "cell_type": "markdown",
   "metadata": {},
   "source": [
    "Write a regular expression to match strings containing both \"Odoo\" and \"#rules\" in any order."
   ]
  },
  {
   "cell_type": "markdown",
   "metadata": {},
   "source": [
    "### Regex"
   ]
  },
  {
   "cell_type": "markdown",
   "metadata": {},
   "source": [
    "`^(?=.*\\bOdoo\\b)(?=.*\\b#rules\\b).*$`"
   ]
  },
  {
   "cell_type": "markdown",
   "metadata": {},
   "source": [
    "### Test 9: Javascript"
   ]
  },
  {
   "cell_type": "markdown",
   "metadata": {},
   "source": [
    "Write a function that, when called, returns an array for which each element is a letter of the alphabet, from \"A\" to \"Z\" (exactly once, in order and upper case). Your code cannot contain the character ' (quote), \" (double quote) or ` (back quote)"
   ]
  },
  {
   "cell_type": "markdown",
   "metadata": {},
   "source": [
    "[source code](https://gist.github.com/mreigen/fdeafcc08a9e44d976bd6a8db468c496)"
   ]
  },
  {
   "cell_type": "code",
   "execution_count": null,
   "metadata": {},
   "outputs": [],
   "source": [
    "function generateAlphabets() {\n",
    "  var alphabets = [];\n",
    "  var start = 'A'.charCodeAt(0);\n",
    "  var last  = 'Z'.charCodeAt(0);\n",
    "  for (var i = start; i <= last; ++i) {\n",
    "    alphabets.push(String.fromCharCode(i));\n",
    "  }\n",
    "\n",
    "  return alphabets.join('');\n",
    "}"
   ]
  },
  {
   "cell_type": "markdown",
   "metadata": {},
   "source": [
    "OR, even easier"
   ]
  },
  {
   "cell_type": "code",
   "execution_count": null,
   "metadata": {},
   "outputs": [],
   "source": [
    "Array.apply(undefined, Array(26)).map(function(x,y)\n",
    "                                      {\n",
    "                                          return String.fromCharCode(y + 65);\n",
    "                                      }).join('');"
   ]
  },
  {
   "cell_type": "code",
   "execution_count": null,
   "metadata": {},
   "outputs": [],
   "source": []
  },
  {
   "cell_type": "markdown",
   "metadata": {},
   "source": [
    "### Full test"
   ]
  },
  {
   "cell_type": "markdown",
   "metadata": {},
   "source": [
    "\n",
    "`Please note:\n",
    "\n",
    "    Read the questions carefully. Every word is important.\n",
    "\n",
    "    Feel free to add comments in your answers and read the documentation as you see fit.\n",
    "\n",
    "    Don't forget to mention the language you are using.\n",
    "\n",
    "    Do test your code!\n",
    "\n",
    "    Between parenthesis is the weight of each question, the maximum score is 20\n",
    "\n",
    "\n",
    "\n",
    "Test 1: Any language (3/20)\n",
    "Write a program that outputs sequentially the integers from 1 to 99, but on some conditions prints a string instead:\n",
    "\n",
    "    when the integer is a multiple of 3 print “Open” instead of the number,\n",
    "\n",
    "    when it is a multiple of 7 print “Source” instead of the number,\n",
    "\n",
    "    when it is a multiple of both 3 and 7 print “OpenSource” instead of the number.\n",
    "\n",
    "\n",
    "#include <stdio.h>\n",
    "\n",
    "int main (void)\n",
    "{\n",
    "    int n;\n",
    "    printf(\"Write a program that outputs sequentially the integers from 1 to 99, Open when the integer is a multiple of 3, Source when the integer is a multiple of 7,\\n OpenSource when the integer is a multiple of 3 and 7\\n\");\n",
    "    for (n=1; n<=99; n++)\n",
    "    {\n",
    "        if (n%3==0 && n%7==0)\n",
    "        {\n",
    "            printf(\"OpenSource\\n\");\n",
    "        }\n",
    "        else if (n%3==0)\n",
    "        {\n",
    "            printf(\"Open\\n\");\n",
    "        }\n",
    "        else if (n%7==0)\n",
    "        {\n",
    "            printf(\"Source\\n\");\n",
    "        }\n",
    "        else\n",
    "        {\n",
    "            printf(\"%d\\n\",n);\n",
    "        }\n",
    "    }\n",
    "    return 0;\n",
    "}\n",
    "\n",
    "}\n",
    "\n",
    "Test 2: Any language (3/20)\n",
    "Solve the game \"Guess a number\", find a secret integer between 1 and 1000000\n",
    "in less than 50 guesses. Write a function that solves the game without user input and returns the\n",
    "solution by using the function verify() which is defined with the following\n",
    "specification:\n",
    "function verify(guess: integer) -> integer\n",
    "Argument:\n",
    "     guess (integer) the number to verify\n",
    "Returns:\n",
    "     0 if the guess is the solution, your program won\n",
    "     -1 if the solution is smaller than the guess parameter\n",
    "     1  if the solution is bigger than the guess parameter\n",
    "\n",
    "Warning: You are not allowed to call verify() more that 50 times or you lose.\n",
    "\n",
    "import random\n",
    "import math\n",
    "\n",
    "def verify(solution,guess):\n",
    "    if solution>guess:\n",
    "        out = 1\n",
    "    elif solution<guess:\n",
    "        out = -1\n",
    "    else:\n",
    "        out = 0\n",
    "    return out\n",
    "    \n",
    "max = 1000000\n",
    "n = random.randint(1,max)\n",
    "\n",
    "print('n = ', n)\n",
    "guess = 1;\n",
    "\n",
    "out = max/2\n",
    "temp = out\n",
    "while guess < 50:\n",
    "    v = verify(out,nb)\n",
    "    \n",
    "    if temp < 2:\n",
    "        temp = temp * 2\n",
    "    else:\n",
    "        temp = temp / 2\n",
    "    temp = math.ceil(temp)\n",
    "        \n",
    "    if v == 1:\n",
    "        out = out - temp\n",
    "    elif v == -1:\n",
    "        out = out + temp\n",
    "    else:\n",
    "        print('out = ',out,'and n = ',n,' and guesses taken = ',guess)\n",
    "        break\n",
    "    guess = guess + 1\n",
    "#     print 'temp = ' ,temp\n",
    "#     print 'out = ' ,out\n",
    "\n",
    "\n",
    "Test 3: Any language (3/20)\n",
    "Write a function that takes a list of strings and returns the sum of the list items that represent an integer (skipping the other items)\n",
    "\n",
    "# Python program to find sum of list with different types. \n",
    "\n",
    "def calsum(l):\n",
    "    return sum([int(i) for i in l if type(i)== int or i.isdigit()]) \n",
    "\n",
    "# Eg. Declaring a list with int and str\n",
    "list = [3, '82', 'Odoo', 'Open', 51, '9', 6, 4, 'Source', 98, 'OpenSource', 104]\n",
    "\n",
    "# sum integers in list while skiping characters\n",
    "print(calsum(list))\n",
    "\n",
    "\n",
    "Test 4: Any language (1/20)\n",
    "Write a recursive version of the previous function (or an iterative version if you have already done a recursive version).\n",
    "\n",
    "global s\n",
    "s = 0\n",
    "def list_recursive(list_of_strings):\n",
    "    global s\n",
    "    if(lenlist_of_strings)==0:\n",
    "        return \"\"\n",
    "else:\n",
    "    try:\n",
    "        sum+= int(list_of_strings[0])\n",
    "        list_recursive(list_of_strings[1:])\n",
    "\n",
    "\n",
    "Test 5: SQL (3/20)\n",
    "\n",
    "    Write pseudo-SQL statements to create database tables to store the products of a basic webshop. Each product has a name, a price, a creation date and may belong to several categories. Categories have a name and a flag to indicate whether the category is private or public.\n",
    "\n",
    "\n",
    "CREATE TABLE products(\n",
    "  int product_id,\n",
    "  varchar(255) product_name,\n",
    "  int price,\n",
    "  varchar(255) creationDate\n",
    ");\n",
    "\n",
    "CREATE TABLE product_categories(\n",
    "  int primary_key,\n",
    "  int product_id,\n",
    "  int  category_id\n",
    ");\n",
    "\n",
    "CREATE TABLE categories(\n",
    "  int category_id,\n",
    "  varchar(255) category_name,\n",
    "  int category_flag\n",
    ");\n",
    "\n",
    "    Write a SQL query to find the list of products that belong to more than 5 public categories.\n",
    "\n",
    "\n",
    "SELECT name, price, creationDate FROM products WHERE categories_flag LIKE \"%*%*%*%*%*%\"\n",
    "    \n",
    "SELECT DISTINCT p.product_id, p.product_name, p.price, p.creationDate,\n",
    "FROM product_categories pc\n",
    "JOIN product p ON pc.product_id = p.product_id\n",
    "WHERE pc.category_id IN (SELECT category_id FROM categories WHERE category_flag = \"public\")\n",
    "HAVING COUNT(*) > 5\n",
    "\n",
    "\n",
    "\n",
    "\n",
    "Test 6: Any language (1/20)\n",
    "Write a program to download the contents of http://www.sap.com/belgique/index.html (the SAP homepage for Belgium), and then save the contents of the page to a new local file, with all occurrences of \"SAP\" replaced by \"Odoo\".\n",
    "\n",
    "public void downloadContent()\n",
    "{\n",
    "    try\n",
    "    {\n",
    "        //Variables for input data.\n",
    "        URL url = new URL (\"http://www.sap.com/belgique/index.html\");\n",
    "        InputStream stream = url.openStream);\n",
    "        BufferedReader input = new BufferedReader (new Input StreamReader(stream));\n",
    "       \n",
    "        //Variables for output data.\n",
    "        File file = new File (\"odoo.html\");\n",
    "        \n",
    "        //Creating file if not existing.\n",
    "        if (!file.exists())\n",
    "        {\n",
    "            file.createNewFile();\n",
    "        }\n",
    "        BufferedWriter output = new BufferedWriter (new FileWriter(file.getAbsoluteFile()));\n",
    "        String line;\n",
    "        \n",
    "        //Reading each line of the web page, and writing them in the output file, replace SAP by Odoo.\n",
    "        while ( (line = input.readLine()) != null)\n",
    "        {\n",
    "            output.write(line.replace(\"SAP\", \"Odoo\"));\n",
    "        }\n",
    "        output.close\n",
    "    }\n",
    "    \n",
    "}\n",
    " \n",
    "\n",
    "\n",
    "Test 7: Any language (2/20)\n",
    "You have a huge file named \"data.bin\" that does not fit in memory; code a program that deletes every 7th byte of it. truncate can be used to change its size.\n",
    "\n",
    "Test 8: Regular Expression (2/20)\n",
    "Write a regular expression to match strings containing both \"Odoo\" and \"#rules\" in any order.\n",
    "\n",
    "^(?=.*\\bOdoo\\b)(?=.*\\b#rules\\b).*$\n",
    "\n",
    "\n",
    "Test 9: Javascript (1/20)\n",
    "Write a function that, when called, returns an array for which each element is a letter of the alphabet, from \"A\" to \"Z\" (exactly once, in order and upper case). Your code cannot contain the character ' (quote), \" (double quote) or ` (back quote)\n",
    "\n",
    "function generateAlphabets() {\n",
    "  var alphabets = [];\n",
    "  var start = 'A'.charCodeAt(0);\n",
    "  var last  = 'Z'.charCodeAt(0);\n",
    "  for (var i = start; i <= last; ++i) {\n",
    "    alphabets.push(String.fromCharCode(i));\n",
    "  }\n",
    "\n",
    "  return alphabets.join('');\n",
    "}\n",
    "\n",
    "\n",
    "Test 10: Unix (1/20)\n",
    "Write a C program that roughly measures the overhead of a context switch between the kernel and userspace on a UNIX/Linux system (without using the pthread API). Please indicate the assumptions your rough estimation is based on.`\n",
    "\n",
    "\n",
    "\n"
   ]
  },
  {
   "cell_type": "code",
   "execution_count": null,
   "metadata": {},
   "outputs": [],
   "source": []
  }
 ],
 "metadata": {
  "kernelspec": {
   "display_name": "Python 3",
   "language": "python",
   "name": "python3"
  },
  "language_info": {
   "codemirror_mode": {
    "name": "ipython",
    "version": 3
   },
   "file_extension": ".py",
   "mimetype": "text/x-python",
   "name": "python",
   "nbconvert_exporter": "python",
   "pygments_lexer": "ipython3",
   "version": "3.7.7"
  }
 },
 "nbformat": 4,
 "nbformat_minor": 4
}
